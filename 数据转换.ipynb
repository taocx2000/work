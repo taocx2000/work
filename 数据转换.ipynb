{
 "cells": [
  {
   "cell_type": "markdown",
   "metadata": {},
   "source": [
    "数据转换8&emsp;&emsp;将司库系统中【产品】内部融资放款单的利率去掉文字，只取数值\n",
    "  \n",
    "需求&emsp;&emsp;&emsp;&emsp;&ensp;为计算综合贷款利率，将司库系统中内部融资放款单的利率去掉文字，只取数值\n",
    "\n",
    "转换规则&emsp;&emsp;&ensp;例如：“浪潮人民币3.55”转换为“3.55”，数值型"
   ]
  },
  {
   "cell_type": "code",
   "execution_count": 13,
   "metadata": {},
   "outputs": [
    {
     "name": "stdout",
     "output_type": "stream",
     "text": [
      "3.92%\n"
     ]
    }
   ],
   "source": [
    "import re\n",
    "\n",
    "def extract_number(text):\n",
    "    # 使用正则表达式匹配结尾的数字\n",
    "    match = re.search(r'(\\d+(\\.\\d+)?$)', text)\n",
    "    if match:\n",
    "        # 返回匹配的数字\n",
    "        return match.group(1)\n",
    "    else:\n",
    "        # 否则返回空值\n",
    "        return \"\"\n",
    "\n",
    "# 示例文本\n",
    "text = \"准利率浮动5年以上人民币3.92\"\n",
    "rate = extract_number(text)\n",
    "print(rate + \"%\")  # 输出: 7.1032%\n"
   ]
  },
  {
   "cell_type": "code",
   "execution_count": null,
   "metadata": {},
   "outputs": [],
   "source": [
    "import re\n",
    "import pandas as pd\n",
    "import sqlite3  # 或者使用其他数据库连接库\n",
    "\n",
    "def extract_number(text):\n",
    "    # 使用正则表达式匹配结尾的数字\n",
    "    match = re.search(r'(\\d+(\\.\\d+)?$)', text)\n",
    "    if match:\n",
    "        # 返回匹配的数字\n",
    "        return match.group(1)\n",
    "    else:\n",
    "        # 否则返回空值\n",
    "        return \"\"\n",
    "\n",
    "# 建立数据库连接\n",
    "# 请根据您的实际数据库进行修改\n",
    "connection = sqlite3.connect('your_database.db')\n",
    "\n",
    "# 从数据库中选择 pk_rate 字段的所有数据\n",
    "df = pd.read_sql(\"SELECT pk_rate FROM your_table\", connection)\n",
    "\n",
    "# 应用函数提取数字\n",
    "df['extracted_number'] = df['pk_rate'].apply(extract_number)\n",
    "\n",
    "# 打印结果\n",
    "print(df[['pk_rate', 'extracted_number']])\n",
    "\n",
    "# 关闭数据库连接\n",
    "connection.close()\n"
   ]
  },
  {
   "cell_type": "markdown",
   "metadata": {},
   "source": [
    "数据转换9&emsp;&emsp;计算每张【产品】内部融资放款单的“最终贷款利率”\t\n",
    "\n",
    "需求&emsp;&emsp;&emsp;&emsp;&ensp;计算每一个放款单的“最终贷款利率”\n",
    "\n",
    "转换规则&emsp;&emsp;&ensp;“最终贷款利率”=“利率”+“浮动点数”"
   ]
  },
  {
   "cell_type": "code",
   "execution_count": 18,
   "metadata": {},
   "outputs": [
    {
     "name": "stdout",
     "output_type": "stream",
     "text": [
      "finalrate = 4.0%\n",
      "finalrate = 4.25%\n",
      "finalrate = 4.3%\n"
     ]
    }
   ],
   "source": [
    "# 定义rate和floatpoint的取值\n",
    "rate = 5.0  # 你可以根据需要修改rate的值\n",
    "floatpoints = [-100, -75, -70]  # floatpoint的取值列表\n",
    "\n",
    "# 计算finalrate\n",
    "for floatpoint in floatpoints:\n",
    "    finalrate = rate + (floatpoint * 0.01)\n",
    "    print(f\"finalrate = {finalrate}\" + \"%\")\n"
   ]
  },
  {
   "cell_type": "code",
   "execution_count": null,
   "metadata": {},
   "outputs": [],
   "source": [
    "import sqlite3  # 假设你使用SQLite数据库，其他数据库请使用相应的库\n",
    "\n",
    "# 连接到SQLite数据库（假设数据库文件名为example.db）\n",
    "conn = sqlite3.connect('example.db')\n",
    "cursor = conn.cursor()\n",
    "\n",
    "# 从数据库中获取floatpoint的值\n",
    "cursor.execute(\"SELECT floatpoint FROM your_table_name\")  # 替换your_table_name为实际的表名\n",
    "floatpoints = [row[0] for row in cursor.fetchall()]\n",
    "\n",
    "# 关闭数据库连接\n",
    "conn.close()\n",
    "\n",
    "# 定义rate的值\n",
    "rate = 5.0  # 你可以根据需要修改rate的值\n",
    "\n",
    "# 计算finalrate\n",
    "for floatpoint in floatpoints:\n",
    "    finalrate = rate + (floatpoint * 0.01)\n",
    "    print(f\"finalrate = {finalrate}%\")\n"
   ]
  },
  {
   "cell_type": "markdown",
   "metadata": {},
   "source": [
    "数据转换10&emsp;&ensp;计算每张【产品】内部融资放款单/【产品】间接融资放款单的“当年利息费用”\t\t\n",
    "\n",
    "需求&emsp;&emsp;&emsp;&emsp;&ensp;计算每一个放款单的“当年利息费用”\t\n",
    "\n",
    "转换规则&emsp;&emsp;&ensp;Σ(“summary执行情况类型”预提 & “olcinterest本币利息”+ “summary执行情况类型”冲补预提清单 & “olcinterest本币利息”+ “summary执行情况类型”利息调整 & “olcinterest本币利息”)\t"
   ]
  },
  {
   "cell_type": "code",
   "execution_count": 31,
   "metadata": {},
   "outputs": [
    {
     "name": "stdout",
     "output_type": "stream",
     "text": [
      "Total sum of olcinterest: 1000\n"
     ]
    }
   ],
   "source": [
    "import pandas as pd\n",
    "from datetime import datetime\n",
    "\n",
    "# 示例数据\n",
    "data = {\n",
    "    'summary': ['预提', '预提', '冲补预提清单', '利息调整', '其他'],\n",
    "    'olcinterest': [100, 200, 300, 400, 500],\n",
    "}\n",
    "\n",
    "df = pd.DataFrame(data)\n",
    "\n",
    "# 筛选符合条件的行\n",
    "mask = (\n",
    "    df['summary'].isin(['预提', '冲补预提清单', '利息调整'])\n",
    ")\n",
    "\n",
    "# 计算符合条件的 olcinterest 累计总和\n",
    "total_sum = df.loc[mask, 'olcinterest'].sum()\n",
    "\n",
    "print(f\"Total sum of olcinterest: {total_sum}\")\n"
   ]
  },
  {
   "cell_type": "code",
   "execution_count": null,
   "metadata": {},
   "outputs": [],
   "source": [
    "import pandas as pd\n",
    "import sqlite3  # 或其他合适的数据库连接库\n",
    "from datetime import datetime\n",
    "\n",
    "# 建立数据库连接\n",
    "# 请根据需要替换为您的数据库连接信息\n",
    "connection = sqlite3.connect('your_database.db')  # 或者使用其他数据库连接方式\n",
    "\n",
    "# 从数据库中获取数据\n",
    "query = \"\"\"\n",
    "SELECT summary, olcinterest\n",
    "FROM your_table\n",
    "WHERE summary IN ('预提', '冲补预提清单', '利息调整')\n",
    "\"\"\"\n",
    "df = pd.read_sql(query, connection)\n",
    "\n",
    "# 计算YTD总和，假设YTD已经在数据表中计算好\n",
    "# 仅根据实际需要筛选而不是重新计算\n",
    "total_ytd = df['olcinterest'].sum()\n",
    "\n",
    "print(f\"Total YTD olcinterest: {total_ytd}\")\n",
    "\n",
    "# 关闭数据库连接\n",
    "connection.close()\n"
   ]
  },
  {
   "cell_type": "markdown",
   "metadata": {},
   "source": [
    "数据转换11&emsp;&ensp;计算每张【产品】内部融资放款单/【产品】间接融资放款单的“当年利息支出”\n",
    "\n",
    "需求&emsp;&emsp;&emsp;&emsp;&ensp;计算每一个放款单的“当年利息支出”\n",
    "\n",
    "转换规则&emsp;&emsp;&ensp;Σ(“summary执行情况类型”付息 &“olcpayinterest付息本币金额”)\t\n"
   ]
  },
  {
   "cell_type": "code",
   "execution_count": 32,
   "metadata": {},
   "outputs": [
    {
     "name": "stdout",
     "output_type": "stream",
     "text": [
      "Total sum of olcpayinterest: 700\n"
     ]
    }
   ],
   "source": [
    "import pandas as pd\n",
    "from datetime import datetime\n",
    "\n",
    "# 示例数据\n",
    "data = {\n",
    "    'summary': ['预提', '付息', '冲补预提清单', '利息调整', '付息'],\n",
    "    'olcpayinterest': [100, 200, 300, 400, 500],\n",
    "}\n",
    "\n",
    "df = pd.DataFrame(data)\n",
    "\n",
    "# 筛选符合条件的行\n",
    "mask = (\n",
    "    df['summary'].isin(['付息'])\n",
    ")\n",
    "\n",
    "# 计算符合条件的 olcpayinterest 累计总和\n",
    "total_sum = df.loc[mask, 'olcpayinterest'].sum()\n",
    "\n",
    "print(f\"Total sum of olcpayinterest: {total_sum}\")\n"
   ]
  },
  {
   "cell_type": "code",
   "execution_count": null,
   "metadata": {},
   "outputs": [],
   "source": [
    "import pandas as pd\n",
    "import sqlite3  # 或其他合适的数据库连接库\n",
    "from datetime import datetime\n",
    "\n",
    "# 建立数据库连接\n",
    "# 请根据需要替换为您的数据库连接信息\n",
    "connection = sqlite3.connect('your_database.db')  # 或者使用其他数据库连接方式\n",
    "\n",
    "# 从数据库中获取数据\n",
    "query = \"\"\"\n",
    "SELECT summary, olcpayinterest\n",
    "FROM your_table\n",
    "WHERE summary = '付息'\n",
    "\"\"\"\n",
    "df = pd.read_sql(query, connection)\n",
    "\n",
    "# 计算YTD总和，假设YTD已经在数据表中计算好\n",
    "# 仅根据实际需要筛选而不是重新计算\n",
    "total_ytd = df['olcpayinterest'].sum()\n",
    "\n",
    "print(f\"Total YTD olcpayinterest: {total_ytd}\")\n",
    "\n",
    "# 关闭数据库连接\n",
    "connection.close()\n"
   ]
  },
  {
   "cell_type": "markdown",
   "metadata": {},
   "source": [
    "数据转换12&emsp;&ensp;计算每张【产品】内部融资放款单/【产品】间接融资放款单的“当年还本金额”\n",
    "\n",
    "需求&emsp;&emsp;&emsp;&emsp;&ensp;计算每一个放款单的“当年还本金额”\n",
    "\n",
    "转换规则&emsp;&emsp;&ensp;Σ(“summary执行情况类型”还本 &“olcrepayamount还本本币金额”)\t\t"
   ]
  },
  {
   "cell_type": "code",
   "execution_count": 34,
   "metadata": {},
   "outputs": [
    {
     "name": "stdout",
     "output_type": "stream",
     "text": [
      "Total sum of olcrepayamount: 700\n"
     ]
    }
   ],
   "source": [
    "import pandas as pd\n",
    "from datetime import datetime\n",
    "\n",
    "# 示例数据，包括一个日期字段\n",
    "data = {\n",
    "    'summary': ['还本', '还本', '冲补预提清单', '还本', '付息'],\n",
    "    'olcrepayamount': [100, 200, 300, 400, 500],\n",
    "}\n",
    "\n",
    "df = pd.DataFrame(data)\n",
    "\n",
    "# 筛选符合条件的行，并且在当前年份内\n",
    "mask = (\n",
    "    df['summary'].isin(['还本'])\n",
    ")\n",
    "\n",
    "# 计算符合条件的 olcrepayamount 当年累计总和\n",
    "total_sum = df.loc[mask, 'olcrepayamount'].sum()\n",
    "\n",
    "print(f\"Total sum of olcrepayamount: {total_sum}\")\n"
   ]
  },
  {
   "cell_type": "code",
   "execution_count": null,
   "metadata": {},
   "outputs": [],
   "source": [
    "import pandas as pd\n",
    "import sqlite3  # 或其他合适的数据库连接库\n",
    "from datetime import datetime\n",
    "\n",
    "# 建立数据库连接\n",
    "# 请根据需要替换为您的数据库连接信息\n",
    "connection = sqlite3.connect('your_database.db')  # 或者使用其他数据库连接方式\n",
    "\n",
    "# 从数据库中获取数据\n",
    "query = \"\"\"\n",
    "SELECT summary, olcrepayamount\n",
    "FROM your_table\n",
    "WHERE summary = '还本'\n",
    "\"\"\"\n",
    "df = pd.read_sql(query, connection)\n",
    "\n",
    "# 计算YTD总和，假设YTD已经在数据表中计算好\n",
    "# 仅根据实际需要筛选而不是重新计算\n",
    "total_ytd = df['olcrepayamount'].sum()\n",
    "\n",
    "print(f\"Total YTD olcrepayamount for the current year: {total_ytd}\")\n",
    "\n",
    "# 关闭数据库连接\n",
    "connection.close()\n"
   ]
  },
  {
   "cell_type": "markdown",
   "metadata": {},
   "source": [
    "数据转换13&emsp;&ensp;计算每张【产品】内部融资放款单的“到年底应还本息预测”\t\t\n",
    "\n",
    "需求&emsp;&emsp;&emsp;&emsp;&ensp;计算每一个内部融资放款单的“到年底应还本息预测”\t\n",
    "\n",
    "转换规则&emsp;&emsp;&ensp;“repayplandate计划还款日期”在取数日期之后，但是在当前年度12月31日之前，Σ(“olcplanrepayprcpmny预计还本金本币”+“olcplanrepayintstmny预计付利息本币”)"
   ]
  },
  {
   "cell_type": "code",
   "execution_count": 9,
   "metadata": {},
   "outputs": [
    {
     "name": "stdout",
     "output_type": "stream",
     "text": [
      "Total sum: 5500\n"
     ]
    }
   ],
   "source": [
    "import pandas as pd\n",
    "from datetime import datetime\n",
    "\n",
    "# 示例数据\n",
    "data = {\n",
    "    'repayplandate': ['2023-10-01 14:00:00', '2024-12-15 10:30:00', '2024-10-15 09:00:00'],\n",
    "    'olcplanrepayprcpmny': [1000, 2000, 3000],\n",
    "    'olcplanrepayintstmny': [100, 200, 300]\n",
    "}\n",
    "\n",
    "df = pd.DataFrame(data)\n",
    "\n",
    "# 将 repayplandate 转换为日期时间格式\n",
    "df['repayplandate'] = pd.to_datetime(df['repayplandate'])\n",
    "\n",
    "# 设定当前日期\n",
    "current_date = datetime.now()\n",
    "\n",
    "# 设定当前年度的 12 月 31 日\n",
    "year_end = datetime(current_date.year, 12, 31)\n",
    "\n",
    "# 筛选条件\n",
    "mask = (df['repayplandate'] > current_date) & (df['repayplandate'] <= year_end)\n",
    "\n",
    "# 计算符合条件的总和\n",
    "total_sum = df.loc[mask, 'olcplanrepayprcpmny'].sum() + df.loc[mask, 'olcplanrepayintstmny'].sum()\n",
    "\n",
    "print(f\"Total sum: {total_sum}\")\n"
   ]
  },
  {
   "cell_type": "code",
   "execution_count": null,
   "metadata": {},
   "outputs": [],
   "source": [
    "import pandas as pd\n",
    "from datetime import datetime\n",
    "import sqlite3  # 或其他合适的数据库连接库\n",
    "\n",
    "# 建立数据库连接\n",
    "# connection = sqlite3.connect('your_database.db')  # 替换为您的数据库连接\n",
    "\n",
    "# 从数据库中获取数据，假设表名为 'your_table'\n",
    "# df = pd.read_sql(\"SELECT repayplandate, olcplanrepayprcpmny, olcplanrepayintstmny FROM your_table\", connection)\n",
    "\n",
    "# 示例数据，仅供参考\n",
    "data = {\n",
    "    'repayplandate': ['2023-10-01 14:00:00', '2023-12-15 10:30:00', '2024-10-15 09:00:00'],\n",
    "    'olcplanrepayprcpmny': [1000, 2000, 3000],\n",
    "    'olcplanrepayintstmny': [100, 200, 300]\n",
    "}\n",
    "df = pd.DataFrame(data)\n",
    "\n",
    "# 将 repayplandate 转换为日期时间格式\n",
    "df['repayplandate'] = pd.to_datetime(df['repayplandate'])\n",
    "\n",
    "# 设定当前日期（数据库取数日期）\n",
    "current_date = datetime.now()  # 或者使用特定日期\n",
    "\n",
    "# 设定当前年度的 12 月 31 日\n",
    "year_end = datetime(current_date.year, 12, 31)\n",
    "\n",
    "# 筛选条件\n",
    "mask = (df['repayplandate'] > current_date) & (df['repayplandate'] <= year_end)\n",
    "\n",
    "# 计算符合条件的总和\n",
    "total_sum = df.loc[mask, 'olcplanrepayprcpmny'].sum() + df.loc[mask, 'olcplanrepayintstmny'].sum()\n",
    "\n",
    "print(f\"Total sum: {total_sum}\")\n",
    "\n",
    "# 关闭数据库连接\n",
    "# connection.close()\n"
   ]
  },
  {
   "cell_type": "markdown",
   "metadata": {},
   "source": [
    "数据转换14&emsp;&ensp;计算每张【产品】间接融资放款单的“到年底应还本息预测”\n",
    "\n",
    "需求&emsp;&emsp;&emsp;&emsp;&ensp;计算每一个间接融资放款单的“到年底应还本息预测”\n",
    "\n",
    "转换规则&emsp;&emsp;&ensp;“planrepaydate计划还款日期”在取数日期之后，但是在当前年度12月31日之前，Σ(“olcpremny预计还本金本币”+“olcpreinterest预计付利息本币”)"
   ]
  },
  {
   "cell_type": "code",
   "execution_count": 19,
   "metadata": {},
   "outputs": [
    {
     "name": "stdout",
     "output_type": "stream",
     "text": [
      "Total sum: 4400\n"
     ]
    }
   ],
   "source": [
    "import pandas as pd\n",
    "from datetime import datetime\n",
    "\n",
    "# 示例数据\n",
    "data = {\n",
    "    'planrepaydate': ['2024-10-01 14:00:00', '2023-12-15 10:30:00', '2024-10-15 09:00:00'],\n",
    "    'olcpremny': [1000, 2000, 3000],\n",
    "    'olcpreinterest': [100, 200, 300]\n",
    "}\n",
    "\n",
    "df = pd.DataFrame(data)\n",
    "\n",
    "# 将 planrepaydate 转换为日期时间格式\n",
    "df['planrepaydate'] = pd.to_datetime(df['planrepaydate'])\n",
    "\n",
    "# 设定当前日期\n",
    "current_date = datetime.now()\n",
    "\n",
    "# 设定当前年度的 12 月 31 日\n",
    "year_end = datetime(current_date.year, 12, 31)\n",
    "\n",
    "# 筛选条件\n",
    "mask = (df['planrepaydate'] > current_date) & (df['planrepaydate'] <= year_end)\n",
    "\n",
    "# 计算符合条件的总和\n",
    "total_sum = df.loc[mask, 'olcpremny'].sum() + df.loc[mask, 'olcpreinterest'].sum()\n",
    "\n",
    "print(f\"Total sum: {total_sum}\")\n"
   ]
  },
  {
   "cell_type": "code",
   "execution_count": null,
   "metadata": {},
   "outputs": [],
   "source": [
    "import pandas as pd\n",
    "from datetime import datetime\n",
    "import sqlite3  # 或其他合适的数据库连接库\n",
    "\n",
    "# 建立数据库连接\n",
    "# connection = sqlite3.connect('your_database.db')  # 替换为您的数据库连接\n",
    "\n",
    "# 从数据库中获取数据，假设表名为 'your_table'\n",
    "# df = pd.read_sql(\"SELECT planrepaydate, olcpremny, olcpreinterest FROM your_table\", connection)\n",
    "\n",
    "# 示例数据，仅供参考\n",
    "data = {\n",
    "    'planrepaydate': ['2023-10-01 14:00:00', '2023-12-15 10:30:00', '2024-10-15 09:00:00'],\n",
    "    'olcpremny': [1000, 2000, 3000],\n",
    "    'olcpreinterest': [100, 200, 300]\n",
    "}\n",
    "df = pd.DataFrame(data)\n",
    "\n",
    "# 将 repayplandate 转换为日期时间格式\n",
    "df['planrepaydate'] = pd.to_datetime(df['planrepaydate'])\n",
    "\n",
    "# 设定当前日期（数据库取数日期）\n",
    "current_date = datetime.now()  # 或者使用特定日期\n",
    "\n",
    "# 设定当前年度的 12 月 31 日\n",
    "year_end = datetime(current_date.year, 12, 31)\n",
    "\n",
    "# 筛选条件\n",
    "mask = (df['planrepaydate'] > current_date) & (df['planrepaydate'] <= year_end)\n",
    "\n",
    "# 计算符合条件的总和\n",
    "total_sum = df.loc[mask, 'olcpremny'].sum() + df.loc[mask, 'olcpreinterest'].sum()\n",
    "\n",
    "print(f\"Total sum: {total_sum}\")\n",
    "\n",
    "# 关闭数据库连接\n",
    "# connection.close()\n"
   ]
  },
  {
   "cell_type": "markdown",
   "metadata": {},
   "source": [
    "数据加工17&emsp;&ensp;计算每张【产品】内部融资放款单/【产品】间接融资放款单的“贷款期限”\t\n",
    "\n",
    "需求&emsp;&emsp;&emsp;&emsp;&ensp;根据内部融资放款单或间接融资放款单的放款日期和结束日期计算“贷款期限”\n",
    "\n",
    "转换规则&emsp;&emsp;&ensp;“contenddate结束日期”-“loandate放款日期”，计算天数，再将天数换算成年，保留整数"
   ]
  },
  {
   "cell_type": "code",
   "execution_count": 40,
   "metadata": {},
   "outputs": [
    {
     "name": "stdout",
     "output_type": "stream",
     "text": [
      "3\n"
     ]
    }
   ],
   "source": [
    "from datetime import datetime\n",
    "\n",
    "def calculate_years_between(d1: str, d2: str) -> int:\n",
    "    date_format = \"%Y-%m-%d %H:%M:%S\"\n",
    "    # 将字符串转换为日期对象\n",
    "    contenddate = datetime.strptime(d1, date_format)\n",
    "    loandate = datetime.strptime(d2, date_format)\n",
    "    \n",
    "    # 计算天数差\n",
    "    days_difference = (contenddate - loandate).days\n",
    "    \n",
    "    # 将天数转换为年，保留整数\n",
    "    years_difference = days_difference // 365\n",
    "    \n",
    "    return years_difference\n",
    "\n",
    "# 示例使用\n",
    "contenddate = \"2023-12-31 23:59:59\"\n",
    "loandate = \"2020-01-02 00:00:00\"\n",
    "years = calculate_years_between(contenddate, loandate)\n",
    "print(years)  # 输出: 3\n"
   ]
  },
  {
   "cell_type": "code",
   "execution_count": null,
   "metadata": {},
   "outputs": [],
   "source": [
    "import sqlite3  # 假设你使用SQLite数据库\n",
    "from datetime import datetime\n",
    "\n",
    "def calculate_years_between(d1: str, d2: str) -> int:\n",
    "    date_format = \"%Y-%m-%d %H:%M:%S\"\n",
    "    # 将字符串转换为日期对象\n",
    "    contenddate = datetime.strptime(d1, date_format)\n",
    "    loandate = datetime.strptime(d2, date_format)\n",
    "    \n",
    "    # 计算天数差\n",
    "    days_difference = (contenddate - loandate).days\n",
    "    \n",
    "    # 将天数转换为年，保留整数\n",
    "    years_difference = days_difference // 365\n",
    "    \n",
    "    return years_difference\n",
    "\n",
    "# 连接到SQLite数据库（假设数据库文件名为example.db）\n",
    "conn = sqlite3.connect('example.db')\n",
    "cursor = conn.cursor()\n",
    "\n",
    "# 从数据库中获取CONTENDDATE和LOANDATE的值\n",
    "cursor.execute(\"SELECT contenddate, loandate FROM your_table_name\")  # 替换your_table_name为实际的表名\n",
    "row = cursor.fetchone()  # 获取查询结果的第一行\n",
    "\n",
    "if row:\n",
    "    contenddate = row[0]  # 假设第一列是contenddate，需确保该列的数据格式正确\n",
    "    loandate = row[1]     # 假设第二列是loandate，需确保该列的数据格式正确\n",
    "\n",
    "    # 计算年份差\n",
    "    years = calculate_years_between(contenddate, loandate)\n",
    "    print(years)  # 输出结果\n",
    "else:\n",
    "    print(\"没有找到数据\")\n",
    "\n",
    "# 关闭数据库连接\n",
    "conn.close()\n"
   ]
  },
  {
   "cell_type": "markdown",
   "metadata": {},
   "source": [
    "数据加工18&emsp;&ensp;计算每张【产品】内部融资放款单/【产品】间接融资放款单的“贷款余额*最终贷款利率”\n",
    "\n",
    "需求&emsp;&emsp;&emsp;&emsp;&ensp;为进一步计算亚华带息负债计算“综合贷款利率”，计算每一个放款单的“贷款余额*最终贷款利率”过度科目\n",
    "\n",
    "转换规则&emsp;&emsp;&ensp;每一个放款单在每一个查询期间的“unpaymny贷款余额”*“finalrate最终贷款利率”"
   ]
  },
  {
   "cell_type": "code",
   "execution_count": 39,
   "metadata": {},
   "outputs": [
    {
     "name": "stdout",
     "output_type": "stream",
     "text": [
      "  vbillno  result\n",
      "0     001  5000.0\n",
      "1     002  6000.0\n",
      "2     001  4750.0\n",
      "3     002  5200.0\n"
     ]
    }
   ],
   "source": [
    "import pandas as pd\n",
    "\n",
    "# 示例数据\n",
    "data = {\n",
    "    'vbillno': ['001', '002', '001', '002'],\n",
    "    'unpaymny': [100000, 150000, 95000, 130000],\n",
    "    'finalrate': [0.05, 0.04, 0.05, 0.04]\n",
    "}\n",
    "\n",
    "# 创建DataFrame\n",
    "df = pd.DataFrame(data)\n",
    "\n",
    "# 计算每个放款单在每个查询期间的贷款余额 * 最终贷款利率\n",
    "df['result'] = df['unpaymny'] * df['finalrate']\n",
    "\n",
    "# 输出结果\n",
    "print(df[['vbillno', 'result']])\n"
   ]
  },
  {
   "cell_type": "code",
   "execution_count": null,
   "metadata": {},
   "outputs": [],
   "source": [
    "import sqlite3\n",
    "\n",
    "# 连接到SQLite数据库\n",
    "conn = sqlite3.connect('example.db')\n",
    "cursor = conn.cursor()\n",
    "\n",
    "# 执行查询以获取每个放款单的贷款余额和最终贷款利率\n",
    "# 请将your_table_name替换为实际的表名\n",
    "cursor.execute(\"\"\"\n",
    "    SELECT vbillno, unpaymny, finalrate \n",
    "    FROM your_table_name\n",
    "\"\"\")\n",
    "\n",
    "# 逐行获取查询结果\n",
    "for row in cursor.fetchall():\n",
    "    vbillno = row[0]\n",
    "    unpaymny = row[1]\n",
    "    finalrate = row[2]\n",
    "\n",
    "    # 计算贷款余额与最终贷款利率的乘积\n",
    "    result = unpaymny * finalrate\n",
    "\n",
    "    # 打印结果\n",
    "    print(f\"Result: {vbillno}, Result: {result}\")\n",
    "\n",
    "# 关闭数据库连接\n",
    "conn.close()\n"
   ]
  },
  {
   "cell_type": "markdown",
   "metadata": {},
   "source": [
    "年月拆分"
   ]
  },
  {
   "cell_type": "code",
   "execution_count": null,
   "metadata": {},
   "outputs": [],
   "source": [
    "import numpy as np\n",
    "import pandas as pd\n",
    "from datetime import datetime\n",
    "\n",
    "# 函数参数说明\n",
    "# Param<dataframe1>: 输入的 pandas.DataFrame\n",
    "# Param<dataframe2>: 输入的 pandas.DataFrame\n",
    "# Param<dataframe3>: 输入的 pandas.DataFrame\n",
    "def execute(dataframe1=None, dataframe2=None, dataframe3=None):\n",
    "    # 打印输入的 dataframe1\n",
    "    print(\"dataframe1:\")\n",
    "    print(dataframe1)\n",
    "\n",
    "    # 检查 dataframe1 是否为 None 且包含 'LOANDATE' 列\n",
    "    if dataframe1 is not None and 'LOANDATE' in dataframe1.columns:\n",
    "        # 解析日期字符串并提取年份\n",
    "        dataframe1['YEAR'] = dataframe1['LOANDATE'].apply(\n",
    "            lambda loandate: datetime.strptime(loandate, \"%Y-%m-%d %H:%M:%S\").year \n",
    "            if pd.notnull(loandate) else None\n",
    "        )\n",
    "        # 提取月份并转换为大写字母形式\n",
    "        dataframe1['PERIOD'] = dataframe1['LOANDATE'].apply(\n",
    "            lambda loandate: datetime.strptime(loandate, \"%Y-%m-%d %H:%M:%S\").strftime(\"%b\").upper() \n",
    "            if pd.notnull(loandate) else None\n",
    "        )\n",
    "    \n",
    "    return dataframe1\n"
   ]
  },
  {
   "cell_type": "code",
   "execution_count": 41,
   "metadata": {},
   "outputs": [
    {
     "name": "stdout",
     "output_type": "stream",
     "text": [
      "{'YEAR': 2021, 'PERIOD': 'JAN'}\n"
     ]
    }
   ],
   "source": [
    "from datetime import datetime\n",
    "\n",
    "# 给定的日期字符串\n",
    "loandate = \"2021-01-03 16:00:01\"\n",
    "\n",
    "# 解析日期字符串\n",
    "date_obj = datetime.strptime(loandate, \"%Y-%m-%d %H:%M:%S\")\n",
    "\n",
    "# 提取年份\n",
    "year = date_obj.year  # 直接获取解析出的年份\n",
    "\n",
    "# 提取月份，并转换为缩写\n",
    "period = date_obj.strftime(\"%b\").upper()\n",
    "\n",
    "# 作为入参输出\n",
    "params = {\n",
    "    \"YEAR\": year,\n",
    "    \"PERIOD\": period\n",
    "}\n",
    "\n",
    "print(params)"
   ]
  },
  {
   "cell_type": "code",
   "execution_count": null,
   "metadata": {},
   "outputs": [],
   "source": [
    "import numpy as np\n",
    "import pandas as pd\n",
    "from datetime import datetime\n",
    "\n",
    "# Param<dataframe1>: a pandas.DataFrame\n",
    "# Param<dataframe2>: a pandas.DataFrame\n",
    "# Param<dataframe3>: a pandas.DataFrame\n",
    "def execute(dataframe1=None, dataframe2=None, dataframe3=None):\n",
    "    # 打印输入的 dataframe1\n",
    "    print(\"dataframe1:\")\n",
    "    print(dataframe1)\n",
    "\n",
    "    \n",
    "    # 提取年份并新增一列 'year'\n",
    "    dataframe1['year'] = dataframe1['LOANDATE']\n",
    "    \n",
    "    return dataframe1\n"
   ]
  },
  {
   "cell_type": "markdown",
   "metadata": {},
   "source": [
    "转义"
   ]
  },
  {
   "cell_type": "code",
   "execution_count": null,
   "metadata": {},
   "outputs": [],
   "source": [
    "import numpy as np\n",
    "import pandas as pd\n",
    "from datetime import datetime\n",
    "\n",
    "# 定义转换函数\n",
    "def convert_bus_status(status):\n",
    "    if status == -1:\n",
    "        return '待提交'\n",
    "    elif status == 3:\n",
    "        return '待审批'\n",
    "    elif status == 1:\n",
    "        return '在执行'\n",
    "    elif status == 2:\n",
    "        return '已放款'\n",
    "    elif status == 0:\n",
    "        return '已结束'\n",
    "    elif status == 4:\n",
    "        return '终止'\n",
    "    else:\n",
    "        return '未知状态'\n",
    "\n",
    "def convert_bill_status(status):\n",
    "    if status == 0:\n",
    "        return '审批未通过'\n",
    "    elif status == 1:\n",
    "        return '审批通过'\n",
    "    elif status == 2:\n",
    "        return '审批进行中'\n",
    "    elif status == 3:\n",
    "        return '提交'\n",
    "    elif status == -1:\n",
    "        return '自由'\n",
    "    else:\n",
    "        return '未知状态'\n",
    "\n",
    "def convert_summary(summary):\n",
    "    if summary == 'HB':\n",
    "        return '还本'\n",
    "    elif summary == 'FX':\n",
    "        return '付息'\n",
    "    elif summary == 'JX':\n",
    "        return '计息'\n",
    "    elif summary == 'LXTZ':\n",
    "        return '利息调整'\n",
    "    elif summary == 'YT':\n",
    "        return '预提'\n",
    "    elif summary == 'CBYTHD':\n",
    "        return '冲补预提清单'\n",
    "    else:\n",
    "        return '未知类型'\n",
    "\n",
    "# 函数参数说明\n",
    "# Param<dataframe1>: 输入的 pandas.DataFrame\n",
    "# Param<dataframe2>: 输入的 pandas.DataFrame\n",
    "# Param<dataframe3>: 输入的 pandas.DataFrame\n",
    "def execute(dataframe1=None, dataframe2=None, dataframe3=None):\n",
    "    # 打印输入的 dataframe1\n",
    "\n",
    "    print(dataframe1)\n",
    "\n",
    "    # 检查 dataframe1 是否为 None 且包含 'LOANDATE' 列\n",
    "    if dataframe1 is not None and 'LOANDATE' in dataframe1.columns:\n",
    "        # 解析日期字符串并提取年份\n",
    "        dataframe1['YEAR'] = dataframe1['LOANDATE'].apply(\n",
    "            lambda loandate: datetime.strptime(loandate, \"%Y-%m-%d %H:%M:%S\").year\n",
    "            if pd.notnull(loandate) else None\n",
    "        )\n",
    "        # 提取月份并转换为大写字母形式\n",
    "        dataframe1['PERIOD'] = dataframe1['LOANDATE'].apply(\n",
    "            lambda loandate: datetime.strptime(loandate, \"%Y-%m-%d %H:%M:%S\").strftime(\"%b\").title()\n",
    "            if pd.notnull(loandate) else None\n",
    "        )\n",
    "        \n",
    "        dataframe1['MONTH'] = dataframe1['LOANDATE'].apply(\n",
    "            lambda loandate: datetime.strptime(loandate, \"%Y-%m-%d %H:%M:%S\").month\n",
    "            if pd.notnull(loandate) else None\n",
    "        )\n",
    "    \n",
    "    if dataframe1 is not None and 'BUSIDATE' in dataframe1.columns:\n",
    "        dataframe1['CURYEAR'] = dataframe1['BUSIDATE'].apply(\n",
    "            lambda busidate: datetime.strptime(busidate, \"%Y-%m-%d %H:%M:%S\").year \n",
    "            if pd.notnull(busidate) else None\n",
    "        )\n",
    "        \n",
    "        # 将列转换为整数类型\n",
    "        dataframe1['CURYEAR'] = dataframe1['CURYEAR'].astype('Int64')  # 使用 Int64 支持缺失值\n",
    "\n",
    "\n",
    "    \n",
    "    # 转换 BUSISTATUS 列\n",
    "    if 'BUSISTATUS' in dataframe1.columns:\n",
    "        dataframe1['BUSISTATUS_ZH'] = dataframe1['BUSISTATUS'].apply(convert_bus_status)\n",
    "\n",
    "    # 转换 VBILLSTATUS 列\n",
    "    if 'VBILLSTATUS' in dataframe1.columns:\n",
    "        dataframe1['VBILLSTATUS_ZH'] = dataframe1['VBILLSTATUS'].apply(convert_bill_status)\n",
    "\n",
    "    # 转换 SUMMARY 列\n",
    "    if 'SUMMARY' in dataframe1.columns:\n",
    "        dataframe1['SUMMARY_ZH'] = dataframe1['SUMMARY'].apply(convert_summary)\n",
    "\n",
    "    return dataframe1\n"
   ]
  }
 ],
 "metadata": {
  "kernelspec": {
   "display_name": "Python 3",
   "language": "python",
   "name": "python3"
  },
  "language_info": {
   "codemirror_mode": {
    "name": "ipython",
    "version": 3
   },
   "file_extension": ".py",
   "mimetype": "text/x-python",
   "name": "python",
   "nbconvert_exporter": "python",
   "pygments_lexer": "ipython3",
   "version": "3.10.11"
  }
 },
 "nbformat": 4,
 "nbformat_minor": 2
}
